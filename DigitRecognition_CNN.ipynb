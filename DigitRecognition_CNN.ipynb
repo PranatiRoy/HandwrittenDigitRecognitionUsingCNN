{
  "nbformat": 4,
  "nbformat_minor": 0,
  "metadata": {
    "colab": {
      "name": "DigitRecognition_CNN.ipynb",
      "provenance": []
    },
    "kernelspec": {
      "name": "python3",
      "display_name": "Python 3"
    },
    "language_info": {
      "name": "python"
    }
  },
  "cells": [
    {
      "cell_type": "markdown",
      "metadata": {
        "id": "APiseeFqB_6k"
      },
      "source": [
        "#Importing Libraries"
      ]
    },
    {
      "cell_type": "code",
      "metadata": {
        "id": "TVbqPd6u6Tai"
      },
      "source": [
        "from keras.datasets import mnist\n",
        "from keras.utils import np_utils\n",
        "import matplotlib.pyplot as plt"
      ],
      "execution_count": 6,
      "outputs": []
    },
    {
      "cell_type": "markdown",
      "metadata": {
        "id": "uPQeFrQlDfNt"
      },
      "source": [
        "#Loading Dataset and Visualization"
      ]
    },
    {
      "cell_type": "code",
      "metadata": {
        "id": "DLaMJ3gU6eYS"
      },
      "source": [
        "# load data\n",
        "(X_train, y_train), (X_test, y_test) = mnist.load_data()\n"
      ],
      "execution_count": 36,
      "outputs": []
    },
    {
      "cell_type": "code",
      "metadata": {
        "colab": {
          "base_uri": "https://localhost:8080/"
        },
        "id": "Lg8DFs_rD0IK",
        "outputId": "099aefdb-0511-487d-e123-f46d40bb9a42"
      },
      "source": [
        "print(X_train.shape)\n",
        "print(y_train.shape)\n",
        "print(X_test.shape)\n",
        "print(y_test.shape)"
      ],
      "execution_count": 40,
      "outputs": [
        {
          "output_type": "stream",
          "text": [
            "(60000, 28, 28)\n",
            "(60000,)\n",
            "(10000, 28, 28)\n",
            "(10000,)\n"
          ],
          "name": "stdout"
        }
      ]
    },
    {
      "cell_type": "code",
      "metadata": {
        "colab": {
          "base_uri": "https://localhost:8080/",
          "height": 268
        },
        "id": "yHyfbd_w6x3W",
        "outputId": "1d71e5ad-3b0e-4479-dd82-f81ff5df877b"
      },
      "source": [
        "# plotting the first 4 images in the training dataset.\n",
        "plt.subplot(221)\n",
        "plt.imshow(X_train[0], cmap=plt.get_cmap('gray'))\n",
        "plt.subplot(222)\n",
        "plt.imshow(X_train[1], cmap=plt.get_cmap('gray'))\n",
        "plt.subplot(223)\n",
        "plt.imshow(X_train[2], cmap=plt.get_cmap('gray'))\n",
        "plt.subplot(224)\n",
        "plt.imshow(X_train[4], cmap=plt.get_cmap('gray'))\n",
        "# show the plot\n",
        "plt.show()"
      ],
      "execution_count": 44,
      "outputs": [
        {
          "output_type": "display_data",
          "data": {
            "image/png": "[encoded data removed]",
            "text/plain": [
              "<Figure size 432x288 with 4 Axes>"
            ]
          },
          "metadata": {
            "tags": [],
            "needs_background": "light"
          }
        }
      ]
    },
    {
      "cell_type": "code",
      "metadata": {
        "id": "DJufNMGP6xz8"
      },
      "source": [
        "# reshape to be [samples][width][height][channels]\n",
        "X_train = X_train.reshape((X_train.shape[0], 28, 28, 1)).astype('float32')\n",
        "X_test = X_test.reshape((X_test.shape[0], 28, 28, 1)).astype('float32')"
      ],
      "execution_count": 9,
      "outputs": []
    },
    {
      "cell_type": "code",
      "metadata": {
        "id": "tlTaMmpS6xwp"
      },
      "source": [
        "# normalize inputs from 0-255 to 0-1\n",
        "X_train = X_train / 255\n",
        "X_test = X_test / 255"
      ],
      "execution_count": 10,
      "outputs": []
    },
    {
      "cell_type": "code",
      "metadata": {
        "id": "-lphyR976xte"
      },
      "source": [
        "# one hot encode outputs\n",
        "y_train = np_utils.to_categorical(y_train)\n",
        "y_test = np_utils.to_categorical(y_test)\n",
        "num_classes = y_test.shape[1]"
      ],
      "execution_count": 11,
      "outputs": []
    },
    {
      "cell_type": "markdown",
      "metadata": {
        "id": "3K70vMVmDReI"
      },
      "source": [
        "#Creation of Model"
      ]
    },
    {
      "cell_type": "code",
      "metadata": {
        "id": "QZfQrkPU6eU9"
      },
      "source": [
        "#importing libraries for model define\n",
        "from keras.models import Sequential\n",
        "from keras.layers import Dense\n",
        "from keras.layers import Dropout\n",
        "from keras.layers import Flatten\n",
        "from keras.layers.convolutional import Conv2D\n",
        "from keras.layers.convolutional import MaxPooling2D"
      ],
      "execution_count": 13,
      "outputs": []
    },
    {
      "cell_type": "code",
      "metadata": {
        "id": "F-Ei7lNP6eSr"
      },
      "source": [
        "#Model define\n",
        "def digit_model():\n",
        "\tmodel = Sequential()\n",
        "\tmodel.add(Conv2D(30, (3, 3), input_shape=(28, 28,1), activation='relu'))\n",
        "\tmodel.add(MaxPooling2D(pool_size=(2, 2)))\n",
        "\tmodel.add(Conv2D(15, (3, 3), activation='relu'))\n",
        "\tmodel.add(MaxPooling2D(pool_size=(2, 2)))\n",
        "\tmodel.add(Dropout(0.2))\n",
        "\tmodel.add(Flatten())\n",
        "\tmodel.add(Dense(128, activation='relu'))\n",
        "\tmodel.add(Dense(50, activation='relu'))\n",
        "\tmodel.add(Dense(num_classes, activation='softmax'))\n",
        "\t# Compile model\n",
        "\tmodel.compile(loss='categorical_crossentropy', optimizer='adam', metrics=['accuracy'])\n",
        "\treturn model"
      ],
      "execution_count": 30,
      "outputs": []
    },
    {
      "cell_type": "markdown",
      "metadata": {
        "id": "ppXCWd6SDGQI"
      },
      "source": [
        "#Building of model"
      ]
    },
    {
      "cell_type": "code",
      "metadata": {
        "id": "Q1LkVVem6eP0"
      },
      "source": [
        "# build the model\n",
        "model = digit_model()"
      ],
      "execution_count": 31,
      "outputs": []
    },
    {
      "cell_type": "markdown",
      "metadata": {
        "id": "NsaIekxCDJ_o"
      },
      "source": [
        "#Model Training"
      ]
    },
    {
      "cell_type": "code",
      "metadata": {
        "colab": {
          "base_uri": "https://localhost:8080/"
        },
        "id": "Laudv7Qg6eNM",
        "outputId": "f355e4e6-8411-4d28-dee6-291f21f36b2c"
      },
      "source": [
        "# Fit the model\n",
        "model.fit(X_train, y_train, validation_data=(X_test, y_test), epochs=10, batch_size=200)"
      ],
      "execution_count": 32,
      "outputs": [
        {
          "output_type": "stream",
          "text": [
            "Epoch 1/10\n",
            "300/300 [==============================] - 37s 122ms/step - loss: 0.8073 - accuracy: 0.7441 - val_loss: 0.0830 - val_accuracy: 0.9728\n",
            "Epoch 2/10\n",
            "300/300 [==============================] - 36s 121ms/step - loss: 0.1065 - accuracy: 0.9675 - val_loss: 0.0545 - val_accuracy: 0.9827\n",
            "Epoch 3/10\n",
            "300/300 [==============================] - 36s 120ms/step - loss: 0.0724 - accuracy: 0.9774 - val_loss: 0.0397 - val_accuracy: 0.9869\n",
            "Epoch 4/10\n",
            "300/300 [==============================] - 36s 119ms/step - loss: 0.0576 - accuracy: 0.9826 - val_loss: 0.0334 - val_accuracy: 0.9891\n",
            "Epoch 5/10\n",
            "300/300 [==============================] - 36s 121ms/step - loss: 0.0509 - accuracy: 0.9842 - val_loss: 0.0364 - val_accuracy: 0.9875\n",
            "Epoch 6/10\n",
            "300/300 [==============================] - 37s 122ms/step - loss: 0.0449 - accuracy: 0.9855 - val_loss: 0.0324 - val_accuracy: 0.9897\n",
            "Epoch 7/10\n",
            "300/300 [==============================] - 36s 120ms/step - loss: 0.0384 - accuracy: 0.9879 - val_loss: 0.0300 - val_accuracy: 0.9898\n",
            "Epoch 8/10\n",
            "300/300 [==============================] - 36s 120ms/step - loss: 0.0356 - accuracy: 0.9890 - val_loss: 0.0258 - val_accuracy: 0.9916\n",
            "Epoch 9/10\n",
            "300/300 [==============================] - 36s 121ms/step - loss: 0.0316 - accuracy: 0.9902 - val_loss: 0.0250 - val_accuracy: 0.9917\n",
            "Epoch 10/10\n",
            "300/300 [==============================] - 36s 121ms/step - loss: 0.0272 - accuracy: 0.9913 - val_loss: 0.0235 - val_accuracy: 0.9927\n"
          ],
          "name": "stdout"
        },
        {
          "output_type": "execute_result",
          "data": {
            "text/plain": [
              "<tensorflow.python.keras.callbacks.History at 0x7fab2a088a10>"
            ]
          },
          "metadata": {
            "tags": []
          },
          "execution_count": 32
        }
      ]
    },
    {
      "cell_type": "markdown",
      "metadata": {
        "id": "JQLDNMzVDNF2"
      },
      "source": [
        "#Testing"
      ]
    },
    {
      "cell_type": "code",
      "metadata": {
        "colab": {
          "base_uri": "https://localhost:8080/"
        },
        "id": "LQWrcHSj6eKn",
        "outputId": "6f4c0025-b907-46de-81d3-6df9b532933e"
      },
      "source": [
        "# Final evaluation of the model\n",
        "scores = model.evaluate(X_test, y_test, verbose=0)\n",
        "print(\"Testing Accuracy:\",scores[1]*100,\"%\")\n",
        "print(\"CNN Error: %.2f%%\" % (100-scores[1]*100))"
      ],
      "execution_count": 33,
      "outputs": [
        {
          "output_type": "stream",
          "text": [
            "Testing Accuracy: 99.26999807357788 %\n",
            "CNN Error: 0.73%\n"
          ],
          "name": "stdout"
        }
      ]
    }
  ]
}